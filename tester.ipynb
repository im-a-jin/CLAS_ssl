{
 "cells": [
  {
   "cell_type": "code",
   "execution_count": 1,
   "id": "df7f57b6-8bc4-4c72-8208-e60dbde9fe4a",
   "metadata": {},
   "outputs": [],
   "source": [
    "import torch\n",
    "import numpy as np\n",
    "from dataset import *\n",
    "from model import *\n",
    "from trainer import *\n",
    "from utils import *\n",
    "\n",
    "import torch\n",
    "import torch.nn as nn\n",
    "import matplotlib.pyplot as plt"
   ]
  },
  {
   "cell_type": "code",
   "execution_count": 2,
   "id": "c5d86a72-ba86-42cf-a636-f8dae4d4e626",
   "metadata": {},
   "outputs": [],
   "source": [
    "# Load data\n",
    "trainpath = \"signals/train_6.mat.pkl\"\n",
    "testpath = \"signals/test_6.mat.pkl\"\n",
    "train = PPGDataset(trainpath)\n",
    "test = PPGDataset(testpath)"
   ]
  },
  {
   "cell_type": "code",
   "execution_count": 30,
   "id": "f4546467-70a6-4074-9b52-d39500bb5bd7",
   "metadata": {},
   "outputs": [
    {
     "name": "stdout",
     "output_type": "stream",
     "text": [
      "tensor(7.8803)\n"
     ]
    }
   ],
   "source": [
    "model = Classifier([1280, 640], out=2)\n",
    "trainer = Trainer(train, test)\n",
    "optim = torch.optim.Adam(model.parameters(), lr=0.001)\n",
    "\n",
    "weight = sum(train.classes == 1) / sum(train.classes == -1)\n",
    "print(weight)\n",
    "pos_weight = torch.Tensor([weight, 1/weight])\n",
    "criterion = nn.BCEWithLogitsLoss(weight=pos_weight)"
   ]
  },
  {
   "cell_type": "code",
   "execution_count": 31,
   "id": "2cfb7cdb-4a66-4142-ab8d-8827e3d08ce1",
   "metadata": {},
   "outputs": [
    {
     "name": "stderr",
     "output_type": "stream",
     "text": [
      "                                                                                                                                                                                           \r"
     ]
    }
   ],
   "source": [
    "log, m = trainer.train_classifier(model, optim, criterion, epochs=100, batch_size=256)"
   ]
  },
  {
   "cell_type": "code",
   "execution_count": 32,
   "id": "eeb41216-d1fb-4a31-a0c1-437e5cb67d98",
   "metadata": {},
   "outputs": [
    {
     "data": {
      "text/plain": [
       "[0.8951382040977478]"
      ]
     },
     "execution_count": 32,
     "metadata": {},
     "output_type": "execute_result"
    }
   ],
   "source": [
    "log['test_acc']"
   ]
  },
  {
   "cell_type": "code",
   "execution_count": 33,
   "id": "309b54ff-0ed6-452d-9c60-60c02cba86e6",
   "metadata": {},
   "outputs": [
    {
     "data": {
      "text/plain": [
       "array([[  9, 110],\n",
       "       [  0, 930]])"
      ]
     },
     "execution_count": 33,
     "metadata": {},
     "output_type": "execute_result"
    }
   ],
   "source": [
    "from sklearn.metrics import confusion_matrix\n",
    "# y_pred = torch.sign(m(test.data)).detach().numpy()\n",
    "# y_true = test.classes.numpy()\n",
    "y_pred = torch.argmax(m(test.data), dim=1).detach().numpy()\n",
    "y_true = test.classes.numpy() > 0\n",
    "confusion_matrix(y_true, y_pred)"
   ]
  },
  {
   "cell_type": "code",
   "execution_count": null,
   "id": "cf09c3ae-b761-4c26-bef0-b91f56b1aeeb",
   "metadata": {},
   "outputs": [],
   "source": []
  }
 ],
 "metadata": {
  "kernelspec": {
   "display_name": "Python 3 (ipykernel)",
   "language": "python",
   "name": "python3"
  },
  "language_info": {
   "codemirror_mode": {
    "name": "ipython",
    "version": 3
   },
   "file_extension": ".py",
   "mimetype": "text/x-python",
   "name": "python",
   "nbconvert_exporter": "python",
   "pygments_lexer": "ipython3",
   "version": "3.10.6"
  }
 },
 "nbformat": 4,
 "nbformat_minor": 5
}
